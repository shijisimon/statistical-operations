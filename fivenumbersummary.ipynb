{
 "cells": [
  {
   "cell_type": "code",
   "execution_count": null,
   "id": "de7996c5",
   "metadata": {},
   "outputs": [],
   "source": [
    "calculate a 5-number summary"
   ]
  },
  {
   "cell_type": "code",
   "execution_count": 1,
   "id": "bd87c00f",
   "metadata": {},
   "outputs": [
    {
     "name": "stdout",
     "output_type": "stream",
     "text": [
      "Min: 0.000\n",
      "Q1: 0.241\n",
      "Median: 0.501\n",
      "Q3: 0.753\n",
      "Max: 0.999\n"
     ]
    }
   ],
   "source": [
    "from numpy import percentile\n",
    "from numpy.random import rand\n",
    "\n",
    "data = rand(1000)\n",
    "\n",
    "quartiles = percentile(data, [25, 50, 75])\n",
    "\n",
    "data_min, data_max = data.min(), data.max()\n",
    "\n",
    "print('Min: %.3f' % data_min)\n",
    "print('Q1: %.3f' % quartiles[0])\n",
    "print('Median: %.3f' % quartiles[1])\n",
    "print('Q3: %.3f' % quartiles[2])\n",
    "print('Max: %.3f' % data_max)"
   ]
  },
  {
   "cell_type": "code",
   "execution_count": null,
   "id": "6e3aa069",
   "metadata": {},
   "outputs": [],
   "source": []
  }
 ],
 "metadata": {
  "kernelspec": {
   "display_name": "Python 3 (ipykernel)",
   "language": "python",
   "name": "python3"
  },
  "language_info": {
   "codemirror_mode": {
    "name": "ipython",
    "version": 3
   },
   "file_extension": ".py",
   "mimetype": "text/x-python",
   "name": "python",
   "nbconvert_exporter": "python",
   "pygments_lexer": "ipython3",
   "version": "3.9.12"
  }
 },
 "nbformat": 4,
 "nbformat_minor": 5
}
