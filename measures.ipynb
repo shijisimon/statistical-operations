{
 "cells": [
  {
   "cell_type": "code",
   "execution_count": null,
   "id": "7c87c896",
   "metadata": {},
   "outputs": [],
   "source": [
    "To calculate central tendency measures and dispersion measures"
   ]
  },
  {
   "cell_type": "code",
   "execution_count": 1,
   "id": "a3fe54b3",
   "metadata": {},
   "outputs": [
    {
     "name": "stdout",
     "output_type": "stream",
     "text": [
      "DataFrame:\n",
      "                 time  price1  price2\n",
      "0 2022-06-23 17:37:24    24.5    23.1\n",
      "1 2022-06-23 17:37:25    24.1    23.5\n",
      "2 2022-06-23 17:37:26    25.2    24.3\n",
      "3 2022-06-23 17:37:27    25.3    23.2\n",
      "Rolling [window=3,center=False,axis=0,method=single]\n",
      "                     mean price1  mean price2\n",
      "time                                         \n",
      "2022-06-23 17:37:24          NaN          NaN\n",
      "2022-06-23 17:37:25          NaN          NaN\n",
      "2022-06-23 17:37:26    24.600000    23.633333\n",
      "2022-06-23 17:37:27    24.866667    23.666667\n",
      "                     median price1  median price2\n",
      "time                                             \n",
      "2022-06-23 17:37:24            NaN            NaN\n",
      "2022-06-23 17:37:25            NaN            NaN\n",
      "2022-06-23 17:37:26           24.5           23.5\n",
      "2022-06-23 17:37:27           25.2           23.5\n",
      "                     price1 variance  price2 variance\n",
      "time                                                 \n",
      "2022-06-23 17:37:24              NaN              NaN\n",
      "2022-06-23 17:37:25              NaN              NaN\n",
      "2022-06-23 17:37:26         0.310000         0.373333\n",
      "2022-06-23 17:37:27         0.443333         0.323333\n",
      "                     price1 std  price2 std\n",
      "time                                       \n",
      "2022-06-23 17:37:24         NaN         NaN\n",
      "2022-06-23 17:37:25         NaN         NaN\n",
      "2022-06-23 17:37:26    0.556776    0.611010\n",
      "2022-06-23 17:37:27    0.665833    0.568624\n"
     ]
    }
   ],
   "source": [
    "import pandas as pd\n",
    "\n",
    "data = [(pd.Timestamp(1656005844,unit='s'), 24.5, 23.1),\n",
    "        (pd.Timestamp(1656005845,unit='s'), 24.1, 23.5),\n",
    "        (pd.Timestamp(1656005846,unit='s'), 25.2, 24.3),\n",
    "        (pd.Timestamp(1656005847,unit='s'), 25.3, 23.2)];\n",
    "\n",
    "df = pd.DataFrame(data=data, columns=[\"time\", \"price1\", \"price2\"]);\n",
    "print(\"DataFrame:\")\n",
    "print(df)\n",
    "\n",
    "\n",
    "numRows = 3\n",
    "r = df.rolling(numRows)   \n",
    "print(r)\n",
    "\n",
    "r1 = r[\"price1\",\"price2\"].mean()\n",
    "r1.columns = [\"mean price1\", \"mean price2\"]\n",
    "r1.index = df[\"time\"]\n",
    "print(r1)\n",
    "\n",
    "r2 = r[\"price1\",\"price2\"].median()\n",
    "r2.columns = [\"median price1\", \"median price2\"]\n",
    "r2.index = df[\"time\"]\n",
    "print(r2)\n",
    "\n",
    "\n",
    "r3 = r[\"price1\",\"price2\"].var()\n",
    "r3.columns = [\"price1 variance\", \"price2 variance\"]\n",
    "r3.index = df[\"time\"]\n",
    "print(r3)\n",
    "\n",
    "\n",
    "r4 = r[\"price1\",\"price2\"].std()\n",
    "r4.columns = [\"price1 std\", \"price2 std\"]\n",
    "r4.index = df[\"time\"]\n",
    "print(r4)"
   ]
  },
  {
   "cell_type": "code",
   "execution_count": null,
   "id": "51a28ba4",
   "metadata": {},
   "outputs": [],
   "source": []
  }
 ],
 "metadata": {
  "kernelspec": {
   "display_name": "Python 3 (ipykernel)",
   "language": "python",
   "name": "python3"
  },
  "language_info": {
   "codemirror_mode": {
    "name": "ipython",
    "version": 3
   },
   "file_extension": ".py",
   "mimetype": "text/x-python",
   "name": "python",
   "nbconvert_exporter": "python",
   "pygments_lexer": "ipython3",
   "version": "3.9.12"
  }
 },
 "nbformat": 4,
 "nbformat_minor": 5
}
